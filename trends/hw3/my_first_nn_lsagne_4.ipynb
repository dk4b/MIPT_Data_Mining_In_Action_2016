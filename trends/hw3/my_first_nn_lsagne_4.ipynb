{
 "cells": [
  {
   "cell_type": "markdown",
   "metadata": {},
   "source": [
    "# lasagne\n",
    "* lasagne - это библиотека для написания нейронок произвольной формы на theano\n",
    "* библиотека низкоуровневая, границы между theano и lasagne практически нет\n",
    "\n",
    "В качестве демо-задачи выберем то же распознавание чисел, но на большем масштабе задачи\n",
    "* картинки 28x28\n",
    "* 10 цифр"
   ]
  },
  {
   "cell_type": "code",
   "execution_count": null,
   "metadata": {
    "collapsed": true
   },
   "outputs": [],
   "source": []
  },
  {
   "cell_type": "code",
   "execution_count": 16,
   "metadata": {
    "collapsed": true
   },
   "outputs": [],
   "source": [
    "import matplotlib.pyplot as plt\n",
    "import time\n",
    "%matplotlib inline"
   ]
  },
  {
   "cell_type": "raw",
   "metadata": {
    "collapsed": false
   },
   "source": [
    "from mnist import load_dataset\n",
    "X_train,y_train,X_val,y_val,X_test,y_test = load_dataset()\n",
    "\n",
    "print X_train.shape,y_train.shape"
   ]
  },
  {
   "cell_type": "raw",
   "metadata": {
    "collapsed": false
   },
   "source": [
    "len(X_train), len(y_train), len(X_val), len(y_val), len(X_test), len(y_test)"
   ]
  },
  {
   "cell_type": "raw",
   "metadata": {
    "collapsed": false
   },
   "source": [
    "plt.imshow(X_train[0,0])"
   ]
  },
  {
   "cell_type": "code",
   "execution_count": 17,
   "metadata": {
    "collapsed": false
   },
   "outputs": [],
   "source": [
    "import lasagne\n",
    "from theano import tensor as T\n",
    "from lasagne.nonlinearities import *\n",
    "\n",
    "input_X = T.tensor4(\"X\")\n",
    "target_y = T.vector(\"target Y integer\",dtype='int32')"
   ]
  },
  {
   "cell_type": "markdown",
   "metadata": {},
   "source": [
    "Так задаётся архитектура нейронки"
   ]
  },
  {
   "cell_type": "raw",
   "metadata": {
    "collapsed": false
   },
   "source": [
    "#входной слой (вспомогательный)\n",
    "input_layer = lasagne.layers.InputLayer(shape=(None,1,28,28), input_var=input_X)\n",
    "\n",
    "#полносвязный слой, который принимает на вход input layer и имеет 100 нейронов.\n",
    "# нелинейная функция - сигмоида как в логистической регрессии\n",
    "# слоям тоже можно давать имена, но это необязательно\n",
    "dense_1 = lasagne.layers.DenseLayer(input_layer,num_units=50, nonlinearity=sigmoid, name=\"hidden_dense_layer\")\n",
    "\n",
    "#ВЫХОДНОЙ полносвязный слой, который принимает на вход dense_1 и имеет 10 нейронов -по нейрону на цифру\n",
    "#нелинейность - softmax - чтобы вероятности всех цифр давали в сумме 1\n",
    "dense_output = lasagne.layers.DenseLayer(dense_1,num_units = 10, nonlinearity=softmax)"
   ]
  },
  {
   "cell_type": "raw",
   "metadata": {
    "collapsed": true
   },
   "source": [
    "#предсказание нейронки (theano-преобразование)\n",
    "y_predicted = lasagne.layers.get_output(dense_output)"
   ]
  },
  {
   "cell_type": "raw",
   "metadata": {
    "collapsed": false
   },
   "source": [
    "#все веса нейронки (shared-переменные)\n",
    "all_weights = lasagne.layers.get_all_params(dense_output)\n",
    "print all_weights"
   ]
  },
  {
   "cell_type": "markdown",
   "metadata": {},
   "source": [
    "### дальше вы могли бы просто\n",
    "* задать функцию ошибки вручную\n",
    "* посчитать градиент ошибки по all_weights\n",
    "* написать updates\n",
    "* но это долго, а простой шаг по градиенту - не самый лучший смособ оптимизировать веса\n",
    "\n",
    "Вместо этого, опять используем lasagne"
   ]
  },
  {
   "cell_type": "raw",
   "metadata": {
    "collapsed": false
   },
   "source": [
    "#функция ошибки - средняя кроссэнтропия\n",
    "loss = lasagne.objectives.categorical_crossentropy(y_predicted,target_y).mean()\n",
    "\n",
    "accuracy = lasagne.objectives.categorical_accuracy(y_predicted,target_y).mean()\n",
    "\n",
    "#сразу посчитать словарь обновлённых значений с шагом по градиенту, как раньше\n",
    "updates_sgd = lasagne.updates.rmsprop(loss, all_weights,learning_rate=0.01)"
   ]
  },
  {
   "cell_type": "raw",
   "metadata": {
    "collapsed": true
   },
   "source": [
    "#функция, которая обучает сеть на 1 шаг и возвращащет значение функции потерь и точности\n",
    "train_fun = theano.function([input_X,target_y],[loss,accuracy],updates= updates_sgd)\n",
    "\n",
    "#функция, которая считает точность\n",
    "accuracy_fun = theano.function([input_X,target_y],accuracy)"
   ]
  },
  {
   "cell_type": "markdown",
   "metadata": {},
   "source": [
    "### Вот и всё, пошли её учить\n",
    "* данных теперь много, поэтому лучше учиться стохастическим градиентным спуском\n",
    "* для этого напишем функцию, которая бьёт выпорку на мини-батчи (в обычном питоне, не в theano)"
   ]
  },
  {
   "cell_type": "code",
   "execution_count": 18,
   "metadata": {
    "collapsed": true
   },
   "outputs": [],
   "source": [
    "# вспомогательная функция, которая возвращает список мини-батчей для обучения нейронки\n",
    "\n",
    "#на вход\n",
    "# inputs - тензор из картинок размером (много, 1, 28, 28), например - X_train\n",
    "# targets - вектор из чиселок - ответов для каждой картинки из X; например - Y_train\n",
    "# batchsize - одно число - желаемый размер группы\n",
    "\n",
    "#что нужно сделать\n",
    "# 1) перемешать данные\n",
    "# - важно перемешать targets и targets одним и тем же образом, чтобы сохранить соответствие картинки ответу на неё\n",
    "# 3) побить данные на подгруппы так, чтобы в каждой подгруппе было batchsize картинок и ответов\n",
    "# - если число картинок не делится на batchsize, одну подгруппу можно вернуть другого размера\n",
    "def iterate_minibatches(inputs, targets, batchsize, shuffle=False):\n",
    "    assert len(inputs) == len(targets)\n",
    "    if shuffle:\n",
    "        indices = np.arange(len(inputs))\n",
    "        np.random.shuffle(indices)\n",
    "    for start_idx in range(0, len(inputs) - batchsize + 1, batchsize):\n",
    "        if shuffle:\n",
    "            excerpt = indices[start_idx:start_idx + batchsize]\n",
    "        else:\n",
    "            excerpt = slice(start_idx, start_idx + batchsize)\n",
    "        yield inputs[excerpt], targets[excerpt]"
   ]
  },
  {
   "cell_type": "markdown",
   "metadata": {},
   "source": [
    "# Процесс обучения"
   ]
  },
  {
   "cell_type": "raw",
   "metadata": {
    "collapsed": false,
    "scrolled": false
   },
   "source": [
    "import time\n",
    "\n",
    "num_epochs = 10 #количество проходов по данным\n",
    "\n",
    "batch_size = 50 #размер мини-батча\n",
    "\n",
    "for epoch in range(num_epochs):\n",
    "    # In each epoch, we do a full pass over the training data:\n",
    "    train_err = 0\n",
    "    train_acc = 0\n",
    "    train_batches = 0\n",
    "    start_time = time.time()\n",
    "    for batch in iterate_minibatches(X_train, y_train,batch_size):\n",
    "        inputs, targets = batch\n",
    "        train_err_batch, train_acc_batch= train_fun(inputs, targets)\n",
    "        train_err += train_err_batch\n",
    "        train_acc += train_acc_batch\n",
    "        train_batches += 1\n",
    "\n",
    "    # And a full pass over the validation data:\n",
    "    val_acc = 0\n",
    "    val_batches = 0\n",
    "    for batch in iterate_minibatches(X_val, y_val, batch_size):\n",
    "        inputs, targets = batch\n",
    "        val_acc += accuracy_fun(inputs, targets)\n",
    "        val_batches += 1\n",
    "\n",
    "    \n",
    "    # Then we print the results for this epoch:\n",
    "    print(\"Epoch {} of {} took {:.3f}s\".format(\n",
    "        epoch + 1, num_epochs, time.time() - start_time))\n",
    "\n",
    "    print(\"  training loss (in-iteration):\\t\\t{:.6f}\".format(train_err / train_batches))\n",
    "    print(\"  train accuracy:\\t\\t{:.2f} %\".format(\n",
    "        train_acc / train_batches * 100))\n",
    "    print(\"  validation accuracy:\\t\\t{:.2f} %\".format(\n",
    "        val_acc / val_batches * 100))"
   ]
  },
  {
   "cell_type": "raw",
   "metadata": {
    "collapsed": false
   },
   "source": [
    "test_acc = 0\n",
    "test_batches = 0\n",
    "for batch in iterate_minibatches(X_test, y_test, 500):\n",
    "    inputs, targets = batch\n",
    "    acc = accuracy_fun(inputs, targets)\n",
    "    test_acc += acc\n",
    "    test_batches += 1\n",
    "print(\"Final results:\")\n",
    "print(\"  test accuracy:\\t\\t{:.2f} %\".format(\n",
    "    test_acc / test_batches * 100))\n",
    "\n",
    "if test_acc / test_batches * 100 > 99:\n",
    "    print \"Achievement unlocked: колдун 80 уровня\"\n",
    "else:\n",
    "    print \"Нужно больше магии!\""
   ]
  },
  {
   "cell_type": "markdown",
   "metadata": {},
   "source": [
    "# Нейронка твоей мечты\n",
    "\n",
    "\n",
    "* Задача - сделать нейронку, которая получит точность 99% на валидации (validation accuracy)\n",
    " * Вариант \"is fine too\" - 97.5%. \n",
    " * Чем выше, тем лучше.\n",
    " \n",
    "__ В конце есть мини-отчётик, который имеет смысл прочитать вначале и заполнять по ходу работы. __\n",
    " \n",
    "\n",
    "## Что можно улучшить:\n",
    "\n",
    "\n",
    "\n",
    " * размер сети\n",
    "   * бОльше нейронов, \n",
    "   * бОльше слоёв, \n",
    "   \n",
    " * регуляризация - чтобы не переобучалось\n",
    "   * приплюсовать к функции ошибки какую-нибудь сумму квадратов весов\n",
    "   * можно сделать вручную, а можно - http://lasagne.readthedocs.org/en/latest/modules/regularization.html\n",
    "   * Dropout - для борьбы с переобучением\n",
    "       * `lasagne.layers.DropoutLayer(предыдущий_слой, p=вероятность_занулить)`\n",
    "   \n",
    " * Метод оптимизации - adam, rmsprop, nesterov_momentum, adadelta, adagrad и т.п.\n",
    "   * сходятся быстрее и иногда - к лучшему оптимуму\n",
    "   * имеет смысл поиграть с размером батча, количеством эпох и скоростью обучения\n",
    "   \n",
    " * Наконец, можно поиграть с нелинейностями в скрытых слоях\n",
    "   * tanh, relu, leaky relu, etc"
   ]
  },
  {
   "cell_type": "code",
   "execution_count": 44,
   "metadata": {
    "collapsed": false
   },
   "outputs": [
    {
     "name": "stdout",
     "output_type": "stream",
     "text": [
      "(50000, 1, 28, 28) (50000,) (10000, 1, 28, 28) (10000,) (10000, 1, 28, 28) (10000,)\n"
     ]
    }
   ],
   "source": [
    "from mnist import load_dataset\n",
    "X_train,y_train,X_val,y_val,X_test,y_test = load_dataset()\n",
    "\n",
    "print X_train.shape,y_train.shape,X_val.shape,y_val.shape,X_test.shape,y_test.shape"
   ]
  },
  {
   "cell_type": "code",
   "execution_count": 45,
   "metadata": {
    "collapsed": true
   },
   "outputs": [],
   "source": [
    "import lasagne\n",
    "\n",
    "input_X = T.tensor4(\"X\")\n",
    "\n",
    "#размерность входа (None означает \"может изменяться\")\n",
    "input_shape = (None,1,28,28)\n",
    "\n",
    "target_y = T.vector(\"target Y integer\",dtype='int32')"
   ]
  },
  {
   "cell_type": "code",
   "execution_count": 46,
   "metadata": {
    "collapsed": false
   },
   "outputs": [],
   "source": [
    "from lasagne.layers import Conv2DLayer, DropoutLayer, DenseLayer, MaxPool2DLayer\n",
    "from lasagne.init import GlorotUniform\n",
    "\n",
    "\n",
    "#входной слой (вспомогательный)\n",
    "input_layer = lasagne.layers.InputLayer(shape = input_shape,input_var=input_X)\n",
    "\n",
    "#<моя архитектура>  \n",
    "\n",
    "\n",
    "network = input_layer\n",
    "\n",
    "network = Conv2DLayer(network, num_filters=40, filter_size=(5, 5), nonlinearity=sigmoid, W=GlorotUniform())\n",
    "\n",
    "network = MaxPool2DLayer(network, pool_size=(2, 2))\n",
    "\n",
    "network = Conv2DLayer(network, num_filters=40, filter_size=(3, 3), nonlinearity=sigmoid)\n",
    "    \n",
    "network = MaxPool2DLayer(network, pool_size=(2, 2))\n",
    "\n",
    "network = DropoutLayer(network, p=.2)\n",
    "\n",
    "network = DenseLayer(network, num_units=256, nonlinearity=sigmoid)\n",
    "\n",
    "network = DropoutLayer(network, p=.5)\n",
    "   \n",
    "network = DenseLayer(network, num_units=10, nonlinearity=softmax)    \n",
    "\n",
    "dense_output = network\n",
    "\n",
    "\n",
    "#ВЫХОДНОЙ полносвязный слой, который принимает на вход dense_1 и имеет 10 нейронов -по нейрону на цифру\n",
    "#нелинейность - softmax - чтобы вероятности всех цифр давали в сумме 1\n",
    "#dense_output = lasagne.layers.DenseLayer(dense_9,num_units = 10,\n",
    "#                                       nonlinearity = lasagne.nonlinearities.softmax,\n",
    "#                                       name='output')"
   ]
  },
  {
   "cell_type": "code",
   "execution_count": 47,
   "metadata": {
    "collapsed": false
   },
   "outputs": [
    {
     "data": {
      "text/plain": [
       "[<lasagne.layers.input.InputLayer at 0x7f4ef7f60450>,\n",
       " <lasagne.layers.conv.Conv2DLayer at 0x7f4ef7f60190>,\n",
       " <lasagne.layers.pool.MaxPool2DLayer at 0x7f4ef7f60f90>,\n",
       " <lasagne.layers.conv.Conv2DLayer at 0x7f4ef7fd2d10>,\n",
       " <lasagne.layers.pool.MaxPool2DLayer at 0x7f4ef7f76550>,\n",
       " <lasagne.layers.noise.DropoutLayer at 0x7f4ee0045950>,\n",
       " <lasagne.layers.dense.DenseLayer at 0x7f4ef7f76910>,\n",
       " <lasagne.layers.noise.DropoutLayer at 0x7f4ef7f7d850>,\n",
       " <lasagne.layers.dense.DenseLayer at 0x7f4ef7f8dd50>]"
      ]
     },
     "execution_count": 47,
     "metadata": {},
     "output_type": "execute_result"
    }
   ],
   "source": [
    "lasagne.layers.get_all_layers(dense_output)"
   ]
  },
  {
   "cell_type": "code",
   "execution_count": 48,
   "metadata": {
    "collapsed": false
   },
   "outputs": [
    {
     "data": {
      "text/plain": [
       "274306"
      ]
     },
     "execution_count": 48,
     "metadata": {},
     "output_type": "execute_result"
    }
   ],
   "source": [
    "lasagne.layers.count_params(dense_output)"
   ]
  },
  {
   "cell_type": "code",
   "execution_count": 49,
   "metadata": {
    "collapsed": false
   },
   "outputs": [],
   "source": [
    "#предсказание нейронки (theano-преобразование)\n",
    "y_predicted = lasagne.layers.get_output(dense_output)"
   ]
  },
  {
   "cell_type": "code",
   "execution_count": 50,
   "metadata": {
    "collapsed": false
   },
   "outputs": [
    {
     "name": "stdout",
     "output_type": "stream",
     "text": [
      "[W, b, W, b, W, b, W, b]\n"
     ]
    }
   ],
   "source": [
    "#все веса нейронки (shared-переменные)\n",
    "all_weights = lasagne.layers.get_all_params(dense_output)\n",
    "print all_weights"
   ]
  },
  {
   "cell_type": "code",
   "execution_count": null,
   "metadata": {
    "collapsed": true
   },
   "outputs": [],
   "source": []
  },
  {
   "cell_type": "code",
   "execution_count": 51,
   "metadata": {
    "collapsed": true
   },
   "outputs": [],
   "source": [
    "from lasagne.regularization import regularize_layer_params_weighted, l2, l1\n",
    "from lasagne.regularization import regularize_layer_params"
   ]
  },
  {
   "cell_type": "code",
   "execution_count": 52,
   "metadata": {
    "collapsed": true
   },
   "outputs": [],
   "source": [
    "#функция ошибки - средняя кроссэнтропия\n",
    "loss = lasagne.objectives.categorical_crossentropy(y_predicted,target_y).mean()\n",
    "\n",
    "#<возможно добавить регуляризатор>\n",
    "\n",
    "#layers = {dense_1: 0.1, dense_2: 0.1, dense_3: 0.1, dense_4: 0.1}\n",
    "#penalty = lasagne.regularization.regularize_layer_params_weighted(layers, l1) \n",
    "#penalty = regularize_layer_params(dense_1, l2) * 1e-4  \n",
    "    \n",
    "#loss = loss + penalty\n",
    "\n",
    "\n",
    "\n",
    "\n",
    "\n",
    "accuracy = lasagne.objectives.categorical_accuracy(y_predicted,target_y).mean()\n",
    "\n",
    "#сразу посчитать словарь обновлённых значений с шагом по градиенту, как раньше\n",
    "#updates_sgd = <поиграться с методами>\n",
    "\n",
    "#updates_sgd = lasagne.updates.rmsprop(loss, all_weights,learning_rate=0.01)\n",
    "#updates_sgd = lasagne.updates.sgd(loss, all_weights,learning_rate=0.01)\n",
    "updates_sgd = lasagne.updates.adamax(loss, all_weights,learning_rate=0.01)\n"
   ]
  },
  {
   "cell_type": "code",
   "execution_count": 53,
   "metadata": {
    "collapsed": false
   },
   "outputs": [],
   "source": [
    "#функция, которая обучает сеть на 1 шаг и возвращащет значение функции потерь и точности\n",
    "train_fun = theano.function([input_X,target_y],[loss,accuracy],updates= updates_sgd)\n",
    "\n",
    "#функция, которая считает точность\n",
    "accuracy_fun = theano.function([input_X,target_y],accuracy)"
   ]
  },
  {
   "cell_type": "code",
   "execution_count": 54,
   "metadata": {
    "collapsed": false
   },
   "outputs": [
    {
     "name": "stdout",
     "output_type": "stream",
     "text": [
      "Epoch 1 of 30 took 124.418s\n",
      "  training loss (in-iteration):\t\t2.127599\n",
      "  train accuracy:\t\t20.26 %\n",
      "  validation accuracy:\t\t84.02 %\n",
      "Epoch 2 of 30 took 118.507s\n",
      "  training loss (in-iteration):\t\t0.232760\n",
      "  train accuracy:\t\t92.96 %\n",
      "  validation accuracy:\t\t96.36 %\n",
      "Epoch 3 of 30 took 109.601s\n",
      "  training loss (in-iteration):\t\t0.114289\n",
      "  train accuracy:\t\t96.48 %\n",
      "  validation accuracy:\t\t97.31 %\n",
      "Epoch 4 of 30 took 108.978s\n",
      "  training loss (in-iteration):\t\t0.086378\n",
      "  train accuracy:\t\t97.37 %\n",
      "  validation accuracy:\t\t97.85 %\n",
      "Epoch 5 of 30 took 108.331s\n",
      "  training loss (in-iteration):\t\t0.073002\n",
      "  train accuracy:\t\t97.78 %\n",
      "  validation accuracy:\t\t97.71 %\n",
      "Epoch 6 of 30 took 109.332s\n",
      "  training loss (in-iteration):\t\t0.062927\n",
      "  train accuracy:\t\t98.01 %\n",
      "  validation accuracy:\t\t98.36 %\n",
      "Epoch 7 of 30 took 107.462s\n",
      "  training loss (in-iteration):\t\t0.055411\n",
      "  train accuracy:\t\t98.25 %\n",
      "  validation accuracy:\t\t98.31 %\n",
      "Epoch 8 of 30 took 107.873s\n",
      "  training loss (in-iteration):\t\t0.051296\n",
      "  train accuracy:\t\t98.40 %\n",
      "  validation accuracy:\t\t98.43 %\n",
      "Epoch 9 of 30 took 107.463s\n",
      "  training loss (in-iteration):\t\t0.047762\n",
      "  train accuracy:\t\t98.54 %\n",
      "  validation accuracy:\t\t98.40 %\n",
      "Epoch 10 of 30 took 107.330s\n",
      "  training loss (in-iteration):\t\t0.042953\n",
      "  train accuracy:\t\t98.64 %\n",
      "  validation accuracy:\t\t98.41 %\n",
      "Epoch 11 of 30 took 107.411s\n",
      "  training loss (in-iteration):\t\t0.041236\n",
      "  train accuracy:\t\t98.68 %\n",
      "  validation accuracy:\t\t98.61 %\n",
      "Epoch 12 of 30 took 107.462s\n",
      "  training loss (in-iteration):\t\t0.037161\n",
      "  train accuracy:\t\t98.82 %\n",
      "  validation accuracy:\t\t98.68 %\n",
      "Epoch 13 of 30 took 107.252s\n",
      "  training loss (in-iteration):\t\t0.035695\n",
      "  train accuracy:\t\t98.84 %\n",
      "  validation accuracy:\t\t98.59 %\n",
      "Epoch 14 of 30 took 108.129s\n",
      "  training loss (in-iteration):\t\t0.033118\n",
      "  train accuracy:\t\t98.97 %\n",
      "  validation accuracy:\t\t98.68 %\n",
      "Epoch 15 of 30 took 107.864s\n",
      "  training loss (in-iteration):\t\t0.033314\n",
      "  train accuracy:\t\t98.90 %\n",
      "  validation accuracy:\t\t98.62 %\n",
      "Epoch 16 of 30 took 107.929s\n",
      "  training loss (in-iteration):\t\t0.029830\n",
      "  train accuracy:\t\t99.07 %\n",
      "  validation accuracy:\t\t98.59 %\n",
      "Epoch 17 of 30 took 107.714s\n",
      "  training loss (in-iteration):\t\t0.028572\n",
      "  train accuracy:\t\t99.09 %\n",
      "  validation accuracy:\t\t98.86 %\n",
      "Epoch 18 of 30 took 107.066s\n",
      "  training loss (in-iteration):\t\t0.027487\n",
      "  train accuracy:\t\t99.09 %\n",
      "  validation accuracy:\t\t98.68 %\n",
      "Epoch 19 of 30 took 106.620s\n",
      "  training loss (in-iteration):\t\t0.026799\n",
      "  train accuracy:\t\t99.12 %\n",
      "  validation accuracy:\t\t98.65 %\n",
      "Epoch 20 of 30 took 107.196s\n",
      "  training loss (in-iteration):\t\t0.024043\n",
      "  train accuracy:\t\t99.23 %\n",
      "  validation accuracy:\t\t98.68 %\n",
      "Epoch 21 of 30 took 107.437s\n",
      "  training loss (in-iteration):\t\t0.022019\n",
      "  train accuracy:\t\t99.26 %\n",
      "  validation accuracy:\t\t98.62 %\n",
      "Epoch 22 of 30 took 107.781s\n",
      "  training loss (in-iteration):\t\t0.023147\n",
      "  train accuracy:\t\t99.23 %\n",
      "  validation accuracy:\t\t98.80 %\n",
      "Epoch 23 of 30 took 107.968s\n",
      "  training loss (in-iteration):\t\t0.020760\n",
      "  train accuracy:\t\t99.33 %\n",
      "  validation accuracy:\t\t98.71 %\n",
      "Epoch 24 of 30 took 107.831s\n",
      "  training loss (in-iteration):\t\t0.021982\n",
      "  train accuracy:\t\t99.24 %\n",
      "  validation accuracy:\t\t98.67 %\n",
      "Epoch 25 of 30 took 107.355s\n",
      "  training loss (in-iteration):\t\t0.020747\n",
      "  train accuracy:\t\t99.33 %\n",
      "  validation accuracy:\t\t98.75 %\n",
      "Epoch 26 of 30 took 107.981s\n",
      "  training loss (in-iteration):\t\t0.019798\n",
      "  train accuracy:\t\t99.32 %\n",
      "  validation accuracy:\t\t98.75 %\n",
      "Epoch 27 of 30 took 108.063s\n",
      "  training loss (in-iteration):\t\t0.019501\n",
      "  train accuracy:\t\t99.37 %\n",
      "  validation accuracy:\t\t98.68 %\n",
      "Epoch 28 of 30 took 107.818s\n",
      "  training loss (in-iteration):\t\t0.017699\n",
      "  train accuracy:\t\t99.39 %\n",
      "  validation accuracy:\t\t98.89 %\n",
      "Epoch 29 of 30 took 107.984s\n",
      "  training loss (in-iteration):\t\t0.016914\n",
      "  train accuracy:\t\t99.42 %\n",
      "  validation accuracy:\t\t98.84 %\n",
      "Epoch 30 of 30 took 107.884s\n",
      "  training loss (in-iteration):\t\t0.017299\n",
      "  train accuracy:\t\t99.41 %\n",
      "  validation accuracy:\t\t98.76 %\n",
      "CPU times: user 1h 43min 41s, sys: 1min 25s, total: 1h 45min 6s\n",
      "Wall time: 54min 22s\n"
     ]
    }
   ],
   "source": [
    "%%time\n",
    "\n",
    "#итерации обучения\n",
    "\n",
    "num_epochs = 30  #10 сколько_эпох #количество проходов по данным\n",
    "\n",
    "batch_size =  25  #50 сколько_картинок_в_минибатче #размер мини-батча\n",
    "\n",
    "for epoch in range(num_epochs):\n",
    "    # In each epoch, we do a full pass over the training data:\n",
    "    train_err = 0\n",
    "    train_acc = 0\n",
    "    train_batches = 0\n",
    "    start_time = time.time()\n",
    "    for batch in iterate_minibatches(X_train, y_train,batch_size):\n",
    "        inputs, targets = batch\n",
    "        train_err_batch, train_acc_batch= train_fun(inputs, targets)\n",
    "        train_err += train_err_batch\n",
    "        train_acc += train_acc_batch\n",
    "        train_batches += 1\n",
    "\n",
    "    # And a full pass over the validation data:\n",
    "    val_acc = 0\n",
    "    val_batches = 0\n",
    "    for batch in iterate_minibatches(X_val, y_val, batch_size):\n",
    "        inputs, targets = batch\n",
    "        val_acc += accuracy_fun(inputs, targets)\n",
    "        val_batches += 1\n",
    "\n",
    "    \n",
    "    # Then we print the results for this epoch:\n",
    "    print(\"Epoch {} of {} took {:.3f}s\".format(\n",
    "        epoch + 1, num_epochs, time.time() - start_time))\n",
    "\n",
    "    print(\"  training loss (in-iteration):\\t\\t{:.6f}\".format(train_err / train_batches))\n",
    "    print(\"  train accuracy:\\t\\t{:.2f} %\".format(\n",
    "        train_acc / train_batches * 100))\n",
    "    print(\"  validation accuracy:\\t\\t{:.2f} %\".format(\n",
    "        val_acc / val_batches * 100))"
   ]
  },
  {
   "cell_type": "code",
   "execution_count": 55,
   "metadata": {
    "collapsed": false
   },
   "outputs": [
    {
     "name": "stdout",
     "output_type": "stream",
     "text": [
      "Final results:\n",
      "  test accuracy:\t\t98.75 %\n"
     ]
    }
   ],
   "source": [
    "test_acc = 0\n",
    "test_batches = 0\n",
    "for batch in iterate_minibatches(X_test, y_test, 500):\n",
    "    inputs, targets = batch\n",
    "    acc = accuracy_fun(inputs, targets)\n",
    "    test_acc += acc\n",
    "    test_batches += 1\n",
    "print(\"Final results:\")\n",
    "print(\"  test accuracy:\\t\\t{:.2f} %\".format(\n",
    "    test_acc / test_batches * 100))"
   ]
  },
  {
   "cell_type": "code",
   "execution_count": null,
   "metadata": {
    "collapsed": true
   },
   "outputs": [],
   "source": []
  },
  {
   "cell_type": "code",
   "execution_count": null,
   "metadata": {
    "collapsed": true
   },
   "outputs": [],
   "source": []
  },
  {
   "cell_type": "code",
   "execution_count": null,
   "metadata": {
    "collapsed": true
   },
   "outputs": [],
   "source": []
  },
  {
   "cell_type": "code",
   "execution_count": null,
   "metadata": {
    "collapsed": true
   },
   "outputs": [],
   "source": []
  },
  {
   "cell_type": "code",
   "execution_count": null,
   "metadata": {
    "collapsed": true
   },
   "outputs": [],
   "source": []
  },
  {
   "cell_type": "code",
   "execution_count": null,
   "metadata": {
    "collapsed": true
   },
   "outputs": [],
   "source": []
  },
  {
   "cell_type": "code",
   "execution_count": null,
   "metadata": {
    "collapsed": true
   },
   "outputs": [],
   "source": []
  },
  {
   "cell_type": "code",
   "execution_count": null,
   "metadata": {
    "collapsed": true
   },
   "outputs": [],
   "source": []
  }
 ],
 "metadata": {
  "anaconda-cloud": {},
  "kernelspec": {
   "display_name": "Python [default]",
   "language": "python",
   "name": "python2"
  },
  "language_info": {
   "codemirror_mode": {
    "name": "ipython",
    "version": 2
   },
   "file_extension": ".py",
   "mimetype": "text/x-python",
   "name": "python",
   "nbconvert_exporter": "python",
   "pygments_lexer": "ipython2",
   "version": "2.7.13"
  }
 },
 "nbformat": 4,
 "nbformat_minor": 0
}
