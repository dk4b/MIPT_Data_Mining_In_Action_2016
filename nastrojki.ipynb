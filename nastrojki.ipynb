{
 "cells": [
  {
   "cell_type": "code",
   "execution_count": null,
   "metadata": {
    "collapsed": true
   },
   "outputs": [],
   "source": []
  },
  {
   "cell_type": "code",
   "execution_count": null,
   "metadata": {
    "collapsed": true
   },
   "outputs": [],
   "source": []
  },
  {
   "cell_type": "code",
   "execution_count": 4,
   "metadata": {},
   "outputs": [
    {
     "name": "stdout",
     "output_type": "stream",
     "text": [
      "Collecting https://github.com/Theano/Theano/archive/master.zip\n",
      "  Downloading https://github.com/Theano/Theano/archive/master.zip (13.7MB)\n",
      "\u001b[K    100% |████████████████████████████████| 13.7MB 95kB/s eta 0:00:011\n",
      "\u001b[?25hRequirement already up-to-date: numpy>=1.9.1 in /home/user/anaconda2/lib/python2.7/site-packages (from Theano==0.9.0)\n",
      "Requirement already up-to-date: scipy>=0.14 in /home/user/anaconda2/lib/python2.7/site-packages (from Theano==0.9.0)\n",
      "Requirement already up-to-date: six>=1.9.0 in /home/user/anaconda2/lib/python2.7/site-packages (from Theano==0.9.0)\n",
      "Installing collected packages: Theano\n",
      "  Running setup.py install for Theano ... \u001b[?25l-\b \b\\\b \b|\b \b/\b \b-\b \b\\\b \b|\b \b/\b \b-\b \b\\\b \b|\b \bdone\n",
      "\u001b[?25hSuccessfully installed Theano-0.9.0\n"
     ]
    }
   ],
   "source": [
    "#    update Theano\n",
    "!pip install --upgrade https://github.com/Theano/Theano/archive/master.zip"
   ]
  },
  {
   "cell_type": "code",
   "execution_count": 5,
   "metadata": {},
   "outputs": [
    {
     "name": "stdout",
     "output_type": "stream",
     "text": [
      "Collecting https://github.com/Lasagne/Lasagne/archive/master.zip\n",
      "  Downloading https://github.com/Lasagne/Lasagne/archive/master.zip (223kB)\n",
      "\u001b[K    100% |████████████████████████████████| 225kB 663kB/s ta 0:00:01\n",
      "\u001b[?25hRequirement already up-to-date: numpy in /home/user/anaconda2/lib/python2.7/site-packages (from Lasagne==0.2.dev1)\n",
      "Installing collected packages: Lasagne\n",
      "  Running setup.py install for Lasagne ... \u001b[?25l-\b \bdone\n",
      "\u001b[?25hSuccessfully installed Lasagne-0.2.dev1\n"
     ]
    }
   ],
   "source": [
    "#    update Lasagne\n",
    "!pip install --upgrade https://github.com/Lasagne/Lasagne/archive/master.zip"
   ]
  },
  {
   "cell_type": "code",
   "execution_count": 8,
   "metadata": {},
   "outputs": [
    {
     "name": "stdout",
     "output_type": "stream",
     "text": [
      "Requirement already up-to-date: xgboost in /home/user/anaconda2/lib/python2.7/site-packages\n",
      "Requirement already up-to-date: numpy in /home/user/anaconda2/lib/python2.7/site-packages (from xgboost)\n",
      "Requirement already up-to-date: scikit-learn in /home/user/anaconda2/lib/python2.7/site-packages (from xgboost)\n",
      "Requirement already up-to-date: scipy in /home/user/anaconda2/lib/python2.7/site-packages (from xgboost)\n"
     ]
    }
   ],
   "source": [
    "#    update xgboost\n",
    "!pip install --upgrade xgboost"
   ]
  },
  {
   "cell_type": "code",
   "execution_count": 25,
   "metadata": {},
   "outputs": [
    {
     "name": "stdout",
     "output_type": "stream",
     "text": [
      "Collecting https://github.com/yandexdataschool/AgentNet/archive/master.zip\n",
      "  Downloading https://github.com/yandexdataschool/AgentNet/archive/master.zip (11.6MB)\n",
      "\u001b[K    100% |████████████████████████████████| 11.6MB 122kB/s ta 0:00:011\n",
      "\u001b[?25hRequirement already up-to-date: six in /home/user/anaconda2/lib/python2.7/site-packages (from agentnet==0.10.4)\n",
      "Requirement already up-to-date: lasagne in /home/user/anaconda2/lib/python2.7/site-packages (from agentnet==0.10.4)\n",
      "Requirement already up-to-date: theano>=0.8.2 in /home/user/anaconda2/lib/python2.7/site-packages (from agentnet==0.10.4)\n",
      "Requirement already up-to-date: numpy>=1.9 in /home/user/anaconda2/lib/python2.7/site-packages (from agentnet==0.10.4)\n",
      "Requirement already up-to-date: scipy>=0.14 in /home/user/anaconda2/lib/python2.7/site-packages (from theano>=0.8.2->agentnet==0.10.4)\n",
      "Installing collected packages: agentnet\n",
      "  Found existing installation: agentnet 0.10.4\n",
      "    Uninstalling agentnet-0.10.4:\n",
      "      Successfully uninstalled agentnet-0.10.4\n",
      "  Running setup.py install for agentnet ... \u001b[?25l-\b \bdone\n",
      "\u001b[?25hSuccessfully installed agentnet-0.10.4\n"
     ]
    }
   ],
   "source": [
    "!pip install --upgrade https://github.com/yandexdataschool/AgentNet/archive/master.zip"
   ]
  },
  {
   "cell_type": "code",
   "execution_count": 9,
   "metadata": {},
   "outputs": [
    {
     "name": "stdout",
     "output_type": "stream",
     "text": [
      "Requirement already up-to-date: pip in /home/user/anaconda2/lib/python2.7/site-packages\r\n"
     ]
    }
   ],
   "source": [
    "#    update pip\n",
    "!pip install --upgrade pip"
   ]
  },
  {
   "cell_type": "code",
   "execution_count": null,
   "metadata": {},
   "outputs": [],
   "source": [
    "!conda install pygpu -y"
   ]
  },
  {
   "cell_type": "code",
   "execution_count": null,
   "metadata": {},
   "outputs": [],
   "source": [
    "!conda install tqdm -y"
   ]
  },
  {
   "cell_type": "code",
   "execution_count": null,
   "metadata": {
    "collapsed": true
   },
   "outputs": [],
   "source": []
  },
  {
   "cell_type": "code",
   "execution_count": null,
   "metadata": {
    "collapsed": true
   },
   "outputs": [],
   "source": []
  },
  {
   "cell_type": "code",
   "execution_count": null,
   "metadata": {},
   "outputs": [],
   "source": []
  },
  {
   "cell_type": "code",
   "execution_count": 1,
   "metadata": {},
   "outputs": [
    {
     "name": "stdout",
     "output_type": "stream",
     "text": [
      "Fetching package metadata .........\n",
      "Solving package specifications: .\n",
      "\n",
      "Package plan for installation in environment /home/user/anaconda2:\n",
      "\n",
      "The following packages will be UPDATED:\n",
      "\n",
      "    alabaster:          0.7.9-py27_0       --> 0.7.10-py27_0     \n",
      "    anaconda:           4.3.1-np111py27_0  --> custom-py27_0     \n",
      "    anaconda-client:    1.6.0-py27_0       --> 1.6.2-py27_0      \n",
      "    anaconda-navigator: 1.5.0-py27_0       --> 1.5.1-py27_0      \n",
      "    astropy:            1.3-np111py27_0    --> 1.3.2-np112py27_0 \n",
      "    babel:              2.3.4-py27_0       --> 2.4.0-py27_0      \n",
      "    bokeh:              0.12.4-py27_0      --> 0.12.5-py27_0     \n",
      "    boto:               2.45.0-py27_0      --> 2.46.1-py27_0     \n",
      "    bottleneck:         1.2.0-np111py27_0  --> 1.2.0-np112py27_0 \n",
      "    dask:               0.13.0-py27_0      --> 0.14.1-py27_0     \n",
      "    entrypoints:        0.2.2-py27_0       --> 0.2.2-py27_1      \n",
      "    fontconfig:         2.12.1-2           --> 2.12.1-3          \n",
      "    greenlet:           0.4.11-py27_0      --> 0.4.12-py27_0     \n",
      "    h5py:               2.6.0-np111py27_2  --> 2.7.0-np112py27_0 \n",
      "    ipykernel:          4.5.2-py27_0       --> 4.6.0-py27_0      \n",
      "    ipython:            5.1.0-py27_0       --> 5.3.0-py27_0      \n",
      "    ipython_genutils:   0.1.0-py27_0       --> 0.2.0-py27_0      \n",
      "    ipywidgets:         5.2.2-py27_1       --> 6.0.0-py27_0      \n",
      "    jinja2:             2.9.4-py27_0       --> 2.9.6-py27_0      \n",
      "    jupyter_client:     4.4.0-py27_0       --> 5.0.1-py27_0      \n",
      "    jupyter_console:    5.0.0-py27_0       --> 5.1.0-py27_0      \n",
      "    jupyter_core:       4.2.1-py27_0       --> 4.3.0-py27_0      \n",
      "    libgcc:             4.8.5-2            --> 5.2.0-0           \n",
      "    llvmlite:           0.15.0-py27_0      --> 0.16.0-py27_0     \n",
      "    lxml:               3.7.2-py27_0       --> 3.7.3-py27_0      \n",
      "    matplotlib:         2.0.0-np111py27_0  --> 2.0.0-np112py27_0 \n",
      "    mistune:            0.7.3-py27_0       --> 0.7.4-py27_0      \n",
      "    nbconvert:          4.2.0-py27_0       --> 5.1.1-py27_0      \n",
      "    nbformat:           4.2.0-py27_0       --> 4.3.0-py27_0      \n",
      "    notebook:           4.3.1-py27_0       --> 5.0.0-py27_0      \n",
      "    numba:              0.30.1-np111py27_0 --> 0.31.0-np112py27_0\n",
      "    numexpr:            2.6.1-np111py27_2  --> 2.6.2-np112py27_0 \n",
      "    numpy:              1.11.3-py27_0      --> 1.12.1-py27_0     \n",
      "    pandas:             0.19.2-np111py27_1 --> 0.19.2-np112py27_1\n",
      "    path.py:            10.0-py27_0        --> 10.1-py27_0       \n",
      "    pillow:             4.0.0-py27_0       --> 4.1.0-py27_0      \n",
      "    ply:                3.9-py27_0         --> 3.10-py27_0       \n",
      "    prompt_toolkit:     1.0.9-py27_0       --> 1.0.14-py27_0     \n",
      "    psutil:             5.0.1-py27_0       --> 5.2.1-py27_0      \n",
      "    pyasn1:             0.1.9-py27_0       --> 0.2.3-py27_0      \n",
      "    pycosat:            0.6.1-py27_1       --> 0.6.2-py27_0      \n",
      "    pygments:           2.1.3-py27_0       --> 2.2.0-py27_0      \n",
      "    pytables:           3.3.0-np111py27_0  --> 3.3.0-np112py27_0 \n",
      "    pytest:             3.0.5-py27_0       --> 3.0.7-py27_0      \n",
      "    pytz:               2016.10-py27_0     --> 2017.2-py27_0     \n",
      "    pywavelets:         0.5.2-np111py27_0  --> 0.5.2-np112py27_0 \n",
      "    qtawesome:          0.4.3-py27_0       --> 0.4.4-py27_0      \n",
      "    qtconsole:          4.2.1-py27_1       --> 4.3.0-py27_0      \n",
      "    requests:           2.12.4-py27_0      --> 2.13.0-py27_0     \n",
      "    scandir:            1.4-py27_0         --> 1.5-py27_0        \n",
      "    scikit-image:       0.12.3-np111py27_1 --> 0.13.0-np112py27_0\n",
      "    scikit-learn:       0.18.1-np111py27_1 --> 0.18.1-np112py27_1\n",
      "    scipy:              0.18.1-np111py27_1 --> 0.19.0-np112py27_0\n",
      "    sphinx:             1.5.1-py27_0       --> 1.5.4-py27_0      \n",
      "    spyder:             3.1.2-py27_0       --> 3.1.3-py27_0      \n",
      "    sqlalchemy:         1.1.5-py27_0       --> 1.1.9-py27_0      \n",
      "    statsmodels:        0.6.1-np111py27_1  --> 0.8.0-np112py27_0 \n",
      "    traitlets:          4.3.1-py27_0       --> 4.3.2-py27_0      \n",
      "    werkzeug:           0.11.15-py27_0     --> 0.12.1-py27_0     \n",
      "    widgetsnbextension: 1.2.6-py27_0       --> 2.0.0-py27_0      \n",
      "    wrapt:              1.10.8-py27_0      --> 1.10.10-py27_0    \n",
      "\n"
     ]
    }
   ],
   "source": [
    "#    update conda package\n",
    "!conda update --all -y"
   ]
  },
  {
   "cell_type": "code",
   "execution_count": 2,
   "metadata": {},
   "outputs": [
    {
     "name": "stdout",
     "output_type": "stream",
     "text": [
      "# packages in environment at /home/user/anaconda2:\n",
      "#\n",
      "_license                  1.1                      py27_1  \n",
      "agentnet                  0.10.4                    <pip>\n",
      "alabaster                 0.7.10                   py27_0  \n",
      "anaconda                  custom                   py27_0  \n",
      "anaconda-client           1.6.2                    py27_0  \n",
      "anaconda-navigator        1.5.1                    py27_0  \n",
      "anaconda-project          0.4.1                    py27_0  \n",
      "argcomplete               1.0.0                    py27_1  \n",
      "astroid                   1.4.9                    py27_0  \n",
      "astropy                   1.3.2               np112py27_0  \n",
      "babel                     2.4.0                    py27_0  \n",
      "backports                 1.0                      py27_0  \n",
      "backports_abc             0.5                      py27_0  \n",
      "beautifulsoup4            4.5.3                    py27_0  \n",
      "bitarray                  0.8.1                    py27_0  \n",
      "blaze                     0.10.1                   py27_0  \n",
      "bleach                    1.5.0                    py27_0  \n",
      "bokeh                     0.12.5                   py27_0  \n",
      "boto                      2.46.1                   py27_0  \n",
      "bottleneck                1.2.0               np112py27_0  \n",
      "cairo                     1.14.8                        0  \n",
      "cdecimal                  2.3                      py27_2  \n",
      "cffi                      1.9.1                    py27_0  \n",
      "chardet                   2.3.0                    py27_0  \n",
      "chest                     0.2.3                    py27_0  \n",
      "click                     6.7                      py27_0  \n",
      "cloudpickle               0.2.2                    py27_0  \n",
      "clyent                    1.2.2                    py27_0  \n",
      "colorama                  0.3.7                    py27_0  \n",
      "conda                     4.3.16                   py27_0  \n",
      "conda-env                 2.6.0                         0  \n",
      "configobj                 5.0.6                    py27_0  \n",
      "configparser              3.5.0                    py27_0  \n",
      "contextlib2               0.5.4                    py27_0  \n",
      "cryptography              1.7.1                    py27_0  \n",
      "curl                      7.52.1                        0  \n",
      "cycler                    0.10.0                   py27_0  \n",
      "cython                    0.25.2                   py27_0  \n",
      "cytoolz                   0.8.2                    py27_0  \n",
      "dask                      0.14.1                   py27_0  \n",
      "datashape                 0.5.4                    py27_0  \n",
      "dbus                      1.10.10                       0  \n",
      "decorator                 4.0.11                   py27_0  \n",
      "dill                      0.2.5                    py27_0  \n",
      "docutils                  0.13.1                   py27_0  \n",
      "entrypoints               0.2.2                    py27_1  \n",
      "enum34                    1.1.6                    py27_0  \n",
      "et_xmlfile                1.0.1                    py27_0  \n",
      "expat                     2.1.0                         0  \n",
      "fastcache                 1.0.2                    py27_1  \n",
      "flask                     0.12                     py27_0  \n",
      "flask-cors                3.0.2                    py27_0  \n",
      "fontconfig                2.12.1                        3  \n",
      "freetype                  2.5.5                         2  \n",
      "funcsigs                  1.0.2                    py27_0  \n",
      "functools32               3.2.3.2                  py27_0  \n",
      "futures                   3.0.5                    py27_0  \n",
      "get_terminal_size         1.0.0                    py27_0  \n",
      "gevent                    1.2.1                    py27_0  \n",
      "glib                      2.50.2                        1  \n",
      "greenlet                  0.4.12                   py27_0  \n",
      "grin                      1.2.1                    py27_3  \n",
      "gst-plugins-base          1.8.0                         0  \n",
      "gstreamer                 1.8.0                         0  \n",
      "h5py                      2.7.0               np112py27_0  \n",
      "harfbuzz                  0.9.39                        2  \n",
      "hdf5                      1.8.17                        1  \n",
      "heapdict                  1.0.0                    py27_1  \n",
      "html5lib                  0.999                    py27_0  \n",
      "icu                       54.1                          0  \n",
      "idna                      2.2                      py27_0  \n",
      "imagesize                 0.7.1                    py27_0  \n",
      "ipaddress                 1.0.18                   py27_0  \n",
      "ipykernel                 4.6.0                    py27_0  \n",
      "ipython                   5.3.0                    py27_0  \n",
      "ipython_genutils          0.2.0                    py27_0  \n",
      "ipywidgets                6.0.0                    py27_0  \n",
      "isort                     4.2.5                    py27_0  \n",
      "itsdangerous              0.24                     py27_0  \n",
      "jbig                      2.1                           0  \n",
      "jdcal                     1.3                      py27_0  \n",
      "jedi                      0.9.0                    py27_1  \n",
      "jinja2                    2.9.6                    py27_0  \n",
      "jpeg                      9b                            0  \n",
      "jsonschema                2.5.1                    py27_0  \n",
      "jupyter                   1.0.0                    py27_3  \n",
      "jupyter_client            5.0.1                    py27_0  \n",
      "jupyter_console           5.1.0                    py27_0  \n",
      "jupyter_core              4.3.0                    py27_0  \n",
      "Lasagne                   0.2.dev1                  <pip>\n",
      "lazy-object-proxy         1.2.2                    py27_0  \n",
      "libffi                    3.2.1                         1  \n",
      "libgcc                    5.2.0                         0  \n",
      "libgfortran               3.0.0                         1  \n",
      "libgpuarray               0.6.2                         0  \n",
      "libiconv                  1.14                          0  \n",
      "libpng                    1.6.27                        0  \n",
      "libsodium                 1.0.10                        0  \n",
      "libtiff                   4.0.6                         3  \n",
      "libxcb                    1.12                          1  \n",
      "libxml2                   2.9.4                         0  \n",
      "libxslt                   1.1.29                        0  \n",
      "llvmlite                  0.16.0                   py27_0  \n",
      "locket                    0.2.0                    py27_1  \n",
      "lxml                      3.7.3                    py27_0  \n",
      "mako                      1.0.6                    py27_0  \n",
      "markupsafe                0.23                     py27_2  \n",
      "matplotlib                2.0.0               np112py27_0  \n",
      "mistune                   0.7.4                    py27_0  \n",
      "mkl                       2017.0.1                      0  \n",
      "mkl-service               1.1.2                    py27_3  \n",
      "mpmath                    0.19                     py27_1  \n",
      "multipledispatch          0.4.9                    py27_0  \n",
      "nbconvert                 5.1.1                    py27_0  \n",
      "nbformat                  4.3.0                    py27_0  \n",
      "networkx                  1.11                     py27_0  \n",
      "nltk                      3.2.2                    py27_0  \n",
      "nose                      1.3.7                    py27_1  \n",
      "notebook                  5.0.0                    py27_0  \n",
      "numba                     0.31.0              np112py27_0  \n",
      "numexpr                   2.6.2               np112py27_0  \n",
      "numpy                     1.12.1                   py27_0  \n",
      "numpy                     1.12.1                    <pip>\n",
      "numpydoc                  0.6.0                    py27_0  \n",
      "odo                       0.5.0                    py27_1  \n",
      "olefile                   0.44                     py27_0  \n",
      "openpyxl                  2.4.1                    py27_0  \n",
      "openssl                   1.0.2k                        1  \n",
      "pandas                    0.19.2              np112py27_1  \n",
      "pandocfilters             1.4.1                    py27_0  \n",
      "partd                     0.3.7                    py27_0  \n",
      "path.py                   10.1                     py27_0  \n",
      "pathlib2                  2.2.0                    py27_0  \n",
      "patsy                     0.4.1                    py27_0  \n",
      "pcre                      8.39                          1  \n",
      "pep8                      1.7.0                    py27_0  \n",
      "pexpect                   4.2.1                    py27_0  \n",
      "pickleshare               0.7.4                    py27_0  \n",
      "pillow                    4.1.0                    py27_0  \n",
      "pip                       9.0.1                    py27_1  \n",
      "pixman                    0.34.0                        0  \n",
      "ply                       3.10                     py27_0  \n",
      "prompt_toolkit            1.0.14                   py27_0  \n",
      "psutil                    5.2.1                    py27_0  \n",
      "ptyprocess                0.5.1                    py27_0  \n",
      "py                        1.4.32                   py27_0  \n",
      "pyasn1                    0.2.3                    py27_0  \n",
      "pycairo                   1.10.0                   py27_0  \n",
      "pycosat                   0.6.2                    py27_0  \n",
      "pycparser                 2.17                     py27_0  \n",
      "pycrypto                  2.6.1                    py27_4  \n",
      "pycurl                    7.43.0                   py27_2  \n",
      "pyflakes                  1.5.0                    py27_0  \n",
      "pygments                  2.2.0                    py27_0  \n",
      "pygpu                     0.6.2                    py27_0  \n",
      "pylint                    1.6.4                    py27_1  \n",
      "pyopenssl                 16.2.0                   py27_0  \n",
      "pyparsing                 2.1.4                    py27_0  \n",
      "pyqt                      5.6.0                    py27_2  \n",
      "pytables                  3.3.0               np112py27_0  \n",
      "pytest                    3.0.7                    py27_0  \n",
      "python                    2.7.13                        0  \n",
      "python-dateutil           2.6.0                    py27_0  \n",
      "pytz                      2017.2                   py27_0  \n",
      "pywavelets                0.5.2               np112py27_0  \n",
      "pyyaml                    3.12                     py27_0  \n",
      "pyzmq                     16.0.2                   py27_0  \n",
      "qt                        5.6.2                         3  \n",
      "qtawesome                 0.4.4                    py27_0  \n",
      "qtconsole                 4.3.0                    py27_0  \n",
      "qtpy                      1.2.1                    py27_0  \n",
      "readline                  6.2                           2  \n",
      "redis                     3.2.0                         0  \n",
      "redis-py                  2.10.5                   py27_0  \n",
      "requests                  2.13.0                   py27_0  \n",
      "rope                      0.9.4                    py27_1  \n",
      "ruamel_yaml               0.11.14                  py27_1  \n",
      "scandir                   1.5                      py27_0  \n",
      "scikit-image              0.13.0              np112py27_0  \n",
      "scikit-learn              0.18.1              np112py27_1  \n",
      "scipy                     0.19.0              np112py27_0  \n",
      "scipy                     0.19.0                    <pip>\n",
      "seaborn                   0.7.1                    py27_0  \n",
      "setuptools                27.2.0                   py27_0  \n",
      "simplegeneric             0.8.1                    py27_1  \n",
      "singledispatch            3.4.0.3                  py27_0  \n",
      "sip                       4.18                     py27_0  \n",
      "six                       1.10.0                   py27_0  \n",
      "snowballstemmer           1.2.1                    py27_0  \n",
      "sockjs-tornado            1.0.3                    py27_0  \n",
      "sphinx                    1.5.4                    py27_0  \n",
      "spyder                    3.1.3                    py27_0  \n",
      "sqlalchemy                1.1.9                    py27_0  \n",
      "sqlite                    3.13.0                        0  \n",
      "ssl_match_hostname        3.4.0.2                  py27_1  \n",
      "statsmodels               0.8.0               np112py27_0  \n",
      "subprocess32              3.2.7                    py27_0  \n",
      "sympy                     1.0                      py27_0  \n",
      "terminado                 0.6                      py27_0  \n",
      "testpath                  0.3                      py27_0  \n",
      "Theano                    0.9.0                     <pip>\n",
      "tk                        8.5.18                        0  \n",
      "toolz                     0.8.2                    py27_0  \n",
      "tornado                   4.4.2                    py27_0  \n",
      "tqdm                      4.11.2                   py27_0  \n",
      "traitlets                 4.3.2                    py27_0  \n",
      "unicodecsv                0.14.1                   py27_0  \n",
      "wcwidth                   0.1.7                    py27_0  \n",
      "werkzeug                  0.12.1                   py27_0  \n",
      "wheel                     0.29.0                   py27_0  \n",
      "widgetsnbextension        2.0.0                    py27_0  \n",
      "wrapt                     1.10.10                  py27_0  \n",
      "xgboost                   0.6a2                     <pip>\n",
      "xlrd                      1.0.0                    py27_0  \n",
      "xlsxwriter                0.9.6                    py27_0  \n",
      "xlwt                      1.2.0                    py27_0  \n",
      "xz                        5.2.2                         1  \n",
      "yaml                      0.1.6                         0  \n",
      "zeromq                    4.1.5                         0  \n",
      "zlib                      1.2.8                         3  \n"
     ]
    }
   ],
   "source": [
    "!conda list"
   ]
  },
  {
   "cell_type": "code",
   "execution_count": null,
   "metadata": {
    "collapsed": true
   },
   "outputs": [],
   "source": []
  },
  {
   "cell_type": "code",
   "execution_count": null,
   "metadata": {
    "collapsed": true
   },
   "outputs": [],
   "source": []
  },
  {
   "cell_type": "code",
   "execution_count": null,
   "metadata": {
    "collapsed": true
   },
   "outputs": [],
   "source": [
    "#    Merge branch 'master'\n",
    "!git pull https://github.com/vkantor/MIPT_Data_Mining_In_Action_2016.git master"
   ]
  },
  {
   "cell_type": "code",
   "execution_count": null,
   "metadata": {
    "collapsed": true
   },
   "outputs": [],
   "source": []
  },
  {
   "cell_type": "code",
   "execution_count": null,
   "metadata": {
    "collapsed": true
   },
   "outputs": [],
   "source": [
    "#    nbviewer\n",
    "#  https://nbviewer.jupyter.org/github/dk4b/MIPT_Data_Mining_In_Action_2016/blob/master/cmd.ipynb"
   ]
  },
  {
   "cell_type": "code",
   "execution_count": null,
   "metadata": {
    "collapsed": true
   },
   "outputs": [],
   "source": []
  },
  {
   "cell_type": "code",
   "execution_count": null,
   "metadata": {
    "collapsed": true
   },
   "outputs": [],
   "source": []
  },
  {
   "cell_type": "code",
   "execution_count": null,
   "metadata": {
    "collapsed": true
   },
   "outputs": [],
   "source": []
  },
  {
   "cell_type": "code",
   "execution_count": 22,
   "metadata": {},
   "outputs": [
    {
     "name": "stdout",
     "output_type": "stream",
     "text": [
      "Fri Apr  7 05:02:58 2017       \r\n",
      "+-----------------------------------------------------------------------------+\r\n",
      "| NVIDIA-SMI 375.39                 Driver Version: 375.39                    |\r\n",
      "|-------------------------------+----------------------+----------------------+\r\n",
      "| GPU  Name        Persistence-M| Bus-Id        Disp.A | Volatile Uncorr. ECC |\r\n",
      "| Fan  Temp  Perf  Pwr:Usage/Cap|         Memory-Usage | GPU-Util  Compute M. |\r\n",
      "|===============================+======================+======================|\r\n",
      "|   0  GeForce GTX 106...  Off  | 0000:01:00.0      On |                  N/A |\r\n",
      "| 24%   41C    P8    10W / 120W |   4344MiB /  6071MiB |      1%      Default |\r\n",
      "+-------------------------------+----------------------+----------------------+\r\n",
      "                                                                               \r\n",
      "+-----------------------------------------------------------------------------+\r\n",
      "| Processes:                                                       GPU Memory |\r\n",
      "|  GPU       PID  Type  Process name                               Usage      |\r\n",
      "|=============================================================================|\r\n",
      "|    0       974    G   /usr/lib/xorg/Xorg                             220MiB |\r\n",
      "|    0      1295    G   compiz                                          64MiB |\r\n",
      "|    0      5759    C   /home/user/anaconda2/bin/python               4055MiB |\r\n",
      "+-----------------------------------------------------------------------------+\r\n"
     ]
    }
   ],
   "source": [
    "!nvidia-smi"
   ]
  },
  {
   "cell_type": "code",
   "execution_count": null,
   "metadata": {
    "collapsed": true
   },
   "outputs": [],
   "source": []
  },
  {
   "cell_type": "raw",
   "metadata": {},
   "source": [
    "$HOME/.theanorc\n",
    "\n",
    "\n",
    "[global]\n",
    "device=cuda\n",
    "floatX=float32\n",
    " \n",
    "[nvcc]\n",
    "flags=-D_FORCE_INLINES\n",
    " \n",
    "[lib]\n",
    "cnmem=.85\n",
    " \n",
    "[dnn]\n",
    "enabled=auto"
   ]
  },
  {
   "cell_type": "code",
   "execution_count": null,
   "metadata": {
    "collapsed": true
   },
   "outputs": [],
   "source": []
  },
  {
   "cell_type": "code",
   "execution_count": null,
   "metadata": {
    "collapsed": true
   },
   "outputs": [],
   "source": []
  },
  {
   "cell_type": "code",
   "execution_count": 6,
   "metadata": {},
   "outputs": [
    {
     "name": "stdout",
     "output_type": "stream",
     "text": [
      "[GpuElemwise{exp,no_inplace}(<GpuArrayType<None>(float32, vector)>), HostFromGpu(gpuarray)(GpuElemwise{exp,no_inplace}.0)]\n",
      "Looping 1000 times took 0.234861 seconds\n",
      "Result is [ 1.23178029  1.61879349  1.52278066 ...,  2.20771813  2.29967761\n",
      "  1.62323296]\n",
      "Used the gpu\n"
     ]
    }
   ],
   "source": [
    "#  test gpu\n",
    "\n",
    "from theano import function, config, shared, tensor\n",
    "import numpy\n",
    "import time\n",
    "\n",
    "vlen = 10 * 30 * 768  # 10 x #cores x # threads per core\n",
    "iters = 1000\n",
    "\n",
    "rng = numpy.random.RandomState(22)\n",
    "x = shared(numpy.asarray(rng.rand(vlen), config.floatX))\n",
    "f = function([], tensor.exp(x))\n",
    "print(f.maker.fgraph.toposort())\n",
    "t0 = time.time()\n",
    "for i in range(iters):\n",
    "    r = f()\n",
    "t1 = time.time()\n",
    "print(\"Looping %d times took %f seconds\" % (iters, t1 - t0))\n",
    "print(\"Result is %s\" % (r,))\n",
    "if numpy.any([isinstance(x.op, tensor.Elemwise) and\n",
    "              ('Gpu' not in type(x.op).__name__)\n",
    "              for x in f.maker.fgraph.toposort()]):\n",
    "    print('Used the cpu')\n",
    "else:\n",
    "    print('Used the gpu')\n"
   ]
  },
  {
   "cell_type": "code",
   "execution_count": null,
   "metadata": {
    "collapsed": true
   },
   "outputs": [],
   "source": []
  },
  {
   "cell_type": "code",
   "execution_count": null,
   "metadata": {
    "collapsed": true
   },
   "outputs": [],
   "source": []
  }
 ],
 "metadata": {
  "kernelspec": {
   "display_name": "Python 2",
   "language": "python",
   "name": "python2"
  },
  "language_info": {
   "codemirror_mode": {
    "name": "ipython",
    "version": 2
   },
   "file_extension": ".py",
   "mimetype": "text/x-python",
   "name": "python",
   "nbconvert_exporter": "python",
   "pygments_lexer": "ipython2",
   "version": "2.7.13"
  }
 },
 "nbformat": 4,
 "nbformat_minor": 2
}
